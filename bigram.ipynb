{
 "cells": [
  {
   "cell_type": "code",
   "execution_count": 1,
   "id": "7f89571b-b38a-456f-b7aa-d4086f54f310",
   "metadata": {},
   "outputs": [
    {
     "name": "stdout",
     "output_type": "stream",
     "text": [
      "tensor([1.], device='mps:0')\n"
     ]
    }
   ],
   "source": [
    "import torch\n",
    "if torch.backends.mps.is_available():\n",
    "    device = torch.device(\"mps\")\n",
    "    x = torch.ones(1, device=device)\n",
    "    print (x)\n",
    "else:\n",
    "    print (\"MPS device not found.\")\n",
    "\n",
    "block_size = 6\n",
    "batch_size = 6"
   ]
  },
  {
   "cell_type": "code",
   "execution_count": 2,
   "id": "47554a60-ea96-4fbc-b475-4c2d0d22d727",
   "metadata": {},
   "outputs": [
    {
     "name": "stdout",
     "output_type": "stream",
     "text": [
      "['\\t', '\\n', ' ', '!', '&', \"'\", '(', ')', '*', ',', '-', '.', '0', '1', '2', '3', '4', '5', '6', '7', '8', '9', ':', ';', '?', 'A', 'B', 'C', 'D', 'E', 'F', 'G', 'H', 'I', 'J', 'K', 'L', 'M', 'N', 'O', 'P', 'Q', 'R', 'S', 'T', 'U', 'V', 'W', 'X', 'Y', 'Z', '[', ']', '_', 'a', 'b', 'c', 'd', 'e', 'f', 'g', 'h', 'i', 'j', 'k', 'l', 'm', 'n', 'o', 'p', 'q', 'r', 's', 't', 'u', 'v', 'w', 'x', 'y', 'z', 'À', 'Æ', 'Ç', 'É', 'à', 'â', 'æ', 'ç', 'è', 'é', 'ê', 'ë', 'î', 'œ', '—', '‘', '’', '“', '”', '…']\n",
      "100\n"
     ]
    }
   ],
   "source": [
    "with open('book.txt', 'r', encoding = 'utf-8') as f:\n",
    "    text = f.read()\n",
    "chars = sorted(set(text)) # all the characters in the text object - the book\n",
    "print(chars)\n",
    "print(len(chars))"
   ]
  },
  {
   "cell_type": "code",
   "execution_count": 3,
   "id": "b2d50e38-e6e9-4fc0-bce5-cdb0b6228fc1",
   "metadata": {},
   "outputs": [
    {
     "name": "stdout",
     "output_type": "stream",
     "text": [
      "[62, 66, 54, 57, 10, 65, 54, 55]\n",
      "imad-lab\n"
     ]
    }
   ],
   "source": [
    "# Simple encoder / Decoder\n",
    "str_to_int = {ch:i for i,ch in enumerate(chars)}\n",
    "int_to_str = {i:ch for i,ch in enumerate(chars)}\n",
    "\n",
    "encode = lambda s: [str_to_int[c] for c in s]\n",
    "decode = lambda i: ''.join(int_to_str[n] for n in i) \n",
    "\n",
    "print(encode('imad-lab'))\n",
    "print(decode(encode('imad-lab')))"
   ]
  },
  {
   "cell_type": "code",
   "execution_count": 4,
   "id": "f210f909-9107-47c2-b9ba-8dd14e2337a0",
   "metadata": {},
   "outputs": [
    {
     "name": "stdout",
     "output_type": "stream",
     "text": [
      "tensor([44, 61, 58,  2, 27, 68, 66, 69, 65, 58, 73, 58,  2, 47, 68, 71, 64, 72,\n",
      "         2, 68, 59,  2, 47, 62, 65, 65, 62, 54, 66,  2, 43, 61, 54, 64, 58, 72,\n",
      "        69, 58, 54, 71, 58,  1,  1, 55, 78,  2, 47, 62, 65, 65, 62, 54, 66,  2,\n",
      "        43, 61, 54, 64, 58, 72, 69, 58, 54, 71, 58,  1,  1,  1,  1,  1,  2,  2,\n",
      "         2,  2,  2,  2,  2,  2,  2,  2,  2,  2,  2,  2,  2,  2,  2,  2,  2,  2,\n",
      "        27, 68, 67, 73, 58, 67, 73, 72,  1,  1])\n"
     ]
    }
   ],
   "source": [
    "data = torch.tensor(encode(text), dtype=torch.long)\n",
    "print(data[:100])"
   ]
  },
  {
   "cell_type": "code",
   "execution_count": 5,
   "id": "8fb9cecf-f25d-4f36-8180-8beb780d44bf",
   "metadata": {},
   "outputs": [
    {
     "name": "stdout",
     "output_type": "stream",
     "text": [
      "when input is tensor([44]) target is  tensor(61)\n",
      "when input is tensor([44, 61]) target is  tensor(58)\n",
      "when input is tensor([44, 61, 58]) target is  tensor(2)\n",
      "when input is tensor([44, 61, 58,  2]) target is  tensor(27)\n",
      "when input is tensor([44, 61, 58,  2, 27]) target is  tensor(68)\n",
      "when input is tensor([44, 61, 58,  2, 27, 68]) target is  tensor(66)\n"
     ]
    }
   ],
   "source": [
    "x = data[:block_size]\n",
    "y = data[1:block_size+1]\n",
    "\n",
    "for i in range(block_size):\n",
    "    context = x[:i+1]\n",
    "    target = y[i]\n",
    "    print ('when input is', context,'target is ', target)"
   ]
  },
  {
   "cell_type": "code",
   "execution_count": null,
   "id": "58e2609a-4c0c-4fab-844c-23caf399345e",
   "metadata": {},
   "outputs": [],
   "source": []
  }
 ],
 "metadata": {
  "kernelspec": {
   "display_name": "gpt-env",
   "language": "python",
   "name": "env"
  },
  "language_info": {
   "codemirror_mode": {
    "name": "ipython",
    "version": 3
   },
   "file_extension": ".py",
   "mimetype": "text/x-python",
   "name": "python",
   "nbconvert_exporter": "python",
   "pygments_lexer": "ipython3",
   "version": "3.12.9"
  }
 },
 "nbformat": 4,
 "nbformat_minor": 5
}
